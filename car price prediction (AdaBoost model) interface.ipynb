{
 "cells": [
  {
   "cell_type": "code",
   "execution_count": 1,
   "metadata": {},
   "outputs": [],
   "source": [
    "import pickle as pkl \n",
    "model = pkl.load(open('car_price_predmodel_ada','rb'))\n",
    "model1 = pkl.load(open('data_transform_model','rb'))"
   ]
  },
  {
   "cell_type": "code",
   "execution_count": 3,
   "metadata": {},
   "outputs": [
    {
     "name": "stdout",
     "output_type": "stream",
     "text": [
      "wlcome to CAR PRICE PREDICTOR APP (PRICEpIX)\n",
      "For accurate price prediction enter car details as follow\n",
      "Enter 1 to continue or press 2 to exit the application - 1\n",
      "------------------------------------------------------------\n",
      "Enter the manufacturing year of the vehicle - 2016\n",
      "------------------------------------------------------------\n",
      "Please enter the original price of the vehicle (in lakhs) - 34\n",
      "------------------------------------------------------------\n",
      "Please enter the reading in vehicle's odometer (distance driven in km) - 5000\n",
      "------------------------------------------------------------\n",
      "Enter the ownership status of the vehicle\n",
      "Press 1 for 1st owner\n",
      "Press 2 for 2nd owner\n",
      "Press 3 for 3rd owner and above1\n",
      "------------------------------------------------------------\n",
      "Please enter the type of fuel ur vehicle functions on\n",
      "Press 1 for Diesel\n",
      "Press 2 for Petrol\n",
      "Press 3 for Cng - 2\n",
      "------------------------------------------------------------\n",
      "Please enter your category of seller\n",
      "Press 1 for individual\n",
      "Press 2 for Dealer - 1\n",
      "------------------------------------------------------------\n",
      "Please enter your transmission type\n",
      "Press 1 for manual transmission type\n",
      "Press 2 for automatic transmission type - 2\n",
      "Please enter a valid choice\n",
      "Enter 1 to continue or press 2 to exit the application - 2\n",
      "The final selling price predicted y the model for the particular car is 21.544545454545457\n"
     ]
    }
   ],
   "source": [
    "data = [[0,0,0,0,0,0,0,0]]\n",
    "ch = 1\n",
    "print(\"wlcome to CAR PRICE PREDICTOR APP (PRICEpIX)\")\n",
    "print(\"For accurate price prediction enter car details as follow\")\n",
    "while(ch == 1):\n",
    "    val = int(input((\"Enter 1 to continue or press 2 to exit the application - \")))\n",
    "    if val == 1:\n",
    "        print(\"------------------------------------------------------------\")\n",
    "        year = int(input(\"Enter the manufacturing year of the vehicle - \"))\n",
    "        data[0][0] = year\n",
    "        print(\"------------------------------------------------------------\")\n",
    "        price = float(input(\"Please enter the original price of the vehicle (in lakhs) - \"))\n",
    "        data[0][1] = price\n",
    "        print(\"------------------------------------------------------------\")\n",
    "        dist_driven = int(input(\"Please enter the reading in vehicle's odometer (distance driven in km) - \"))\n",
    "        data[0][2] = dist_driven\n",
    "        print(\"------------------------------------------------------------\")\n",
    "        print(\"Enter the ownership status of the vehicle\")\n",
    "        print(\"Press 1 for 1st owner\")\n",
    "        print(\"Press 2 for 2nd owner\")\n",
    "        ownership = int(input(\"Press 3 for 3rd owner and above\"))\n",
    "        if ownership == 1:\n",
    "            data[0][3] = 0\n",
    "        if ownership == 2:\n",
    "            data[0][3] = 1\n",
    "        if ownership == 3:\n",
    "            data[0][3] = 3\n",
    "        print(\"------------------------------------------------------------\")\n",
    "        print(\"Please enter the type of fuel ur vehicle functions on\")\n",
    "        print(\"Press 1 for Diesel\")\n",
    "        print(\"Press 2 for Petrol\")\n",
    "        fuel = int(input(\"Press 3 for Cng - \"))\n",
    "        if fuel == 1:\n",
    "            data[0][4] = 1\n",
    "            data[0][5] = 0\n",
    "        if fuel == 2:\n",
    "            data[0][4] = 0\n",
    "            data[0][5] =1\n",
    "        if fuel == 3:\n",
    "            data[0][4] = 0\n",
    "            data[0][5] = 0\n",
    "        print(\"------------------------------------------------------------\")\n",
    "        print(\"Please enter your category of seller\")\n",
    "        print(\"Press 1 for individual\")\n",
    "        seller = int(input(\"Press 2 for Dealer - \"))\n",
    "        if seller == 1:\n",
    "            data[0][6] = 1\n",
    "        if seller == 2:\n",
    "            data[0][6] = 0\n",
    "        print(\"------------------------------------------------------------\")\n",
    "        print(\"Please enter your transmission type\")\n",
    "        print(\"Press 1 for manual transmission type\")\n",
    "        transmission = int(input(\"Press 2 for automatic transmission type - \"))\n",
    "        if transmission == 1:\n",
    "            data[0][7] = 1\n",
    "        if transmission == 2:\n",
    "            data[0][7] =0 \n",
    "    if val == 2:\n",
    "        ch = 0\n",
    "    else:\n",
    "        print(\"Please enter a valid choice\")\n",
    "data = model1.transform(data)\n",
    "final_price = model.predict(data)\n",
    "print(\"The final selling price predicted y the model for the particular car is {}\".format(final_price[0]))"
   ]
  },
  {
   "cell_type": "code",
   "execution_count": null,
   "metadata": {},
   "outputs": [],
   "source": []
  },
  {
   "cell_type": "code",
   "execution_count": null,
   "metadata": {},
   "outputs": [],
   "source": []
  }
 ],
 "metadata": {
  "kernelspec": {
   "display_name": "Python 3",
   "language": "python",
   "name": "python3"
  },
  "language_info": {
   "codemirror_mode": {
    "name": "ipython",
    "version": 3
   },
   "file_extension": ".py",
   "mimetype": "text/x-python",
   "name": "python",
   "nbconvert_exporter": "python",
   "pygments_lexer": "ipython3",
   "version": "3.8.5"
  }
 },
 "nbformat": 4,
 "nbformat_minor": 4
}
